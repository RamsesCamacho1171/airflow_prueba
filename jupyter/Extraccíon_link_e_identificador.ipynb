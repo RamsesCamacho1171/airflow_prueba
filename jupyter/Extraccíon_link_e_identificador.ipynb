{
 "cells": [
  {
   "cell_type": "markdown",
   "id": "c9320160",
   "metadata": {},
   "source": [
    "Importamos las variables requeridas"
   ]
  },
  {
   "cell_type": "code",
   "execution_count": 8,
   "id": "d8d8cf99",
   "metadata": {},
   "outputs": [],
   "source": [
    "import re\n",
    "import requests\n",
    "from bs4 import BeautifulSoup\n",
    "\n",
    "formatoArchivo = \"csv\"\n",
    "headers = {'User-Agent': 'Mozilla/5.0 (X11; Linux x86_64) AppleWebKit/537.36 (KHTML, like Gecko) Chrome/47.0.2526.106 Safari/537.36'}\n",
    "links = \"https://datos.gob.mx/busca/dataset/informacion-estadistica-de-invenciones-signos-distintivos-y-proteccion-a-la-propiedad-intelectu\""
   ]
  },
  {
   "cell_type": "markdown",
   "id": "a56b7849",
   "metadata": {},
   "source": [
    "Extraemos el código de la página "
   ]
  },
  {
   "cell_type": "code",
   "execution_count": 2,
   "id": "084ac862",
   "metadata": {},
   "outputs": [],
   "source": [
    "html = requests.get(links, headers=headers)\n",
    "htmlFormat = BeautifulSoup(html.content, 'html.parser')"
   ]
  },
  {
   "cell_type": "code",
   "execution_count": 3,
   "id": "a5a78eaf",
   "metadata": {},
   "outputs": [],
   "source": [
    "htmlDataSelected = htmlFormat.find_all(\"a\", {\"class\": \"btn btn-primary\"})"
   ]
  },
  {
   "cell_type": "code",
   "execution_count": 4,
   "id": "0b399230",
   "metadata": {},
   "outputs": [
    {
     "name": "stdout",
     "output_type": "stream",
     "text": [
      "https://datosabiertos.impi.gob.mx/IMPICifras/Invenciones16.csv\n",
      "https://datosabiertos.impi.gob.mx/IMPICifras/Proteccion04.csv\n",
      "https://datosabiertos.impi.gob.mx/IMPICifras/Proteccion03.csv\n",
      "https://datosabiertos.impi.gob.mx/IMPICifras/Proteccion02.csv\n",
      "https://datosabiertos.impi.gob.mx/IMPICifras/Proteccion01.csv\n",
      "https://datosabiertos.impi.gob.mx/IMPICifras/Promocion06.csv\n",
      "https://datosabiertos.impi.gob.mx/IMPICifras/Promocion05.csv\n",
      "https://datosabiertos.impi.gob.mx/IMPICifras/Promocion04.csv\n",
      "https://datosabiertos.impi.gob.mx/IMPICifras/Promocion03.csv\n",
      "https://datosabiertos.impi.gob.mx/IMPICifras/Promocion02.csv\n",
      "https://datosabiertos.impi.gob.mx/IMPICifras/Promocion01.csv\n",
      "https://datosabiertos.impi.gob.mx/IMPICifras/Regionales01.csv\n",
      "https://datosabiertos.impi.gob.mx/IMPICifras/PIB01.CSV\n",
      "https://datosabiertos.impi.gob.mx/IMPICifras/Marcas12.csv\n",
      "https://datosabiertos.impi.gob.mx/IMPICifras/Marcas11.csv\n",
      "https://datosabiertos.impi.gob.mx/IMPICifras/Marcas10.csv\n",
      "https://datosabiertos.impi.gob.mx/IMPICifras/Marcas09.csv\n",
      "https://datosabiertos.impi.gob.mx/IMPICifras/Marcas08.csv\n",
      "https://datosabiertos.impi.gob.mx/IMPICifras/Marcas07.csv\n",
      "https://datosabiertos.impi.gob.mx/IMPICifras/Marcas06.csv\n",
      "https://datosabiertos.impi.gob.mx/IMPICifras/Marcas05.csv\n",
      "https://datosabiertos.impi.gob.mx/IMPICifras/Marcas04.csv\n",
      "https://datosabiertos.impi.gob.mx/IMPICifras/Marcas03.csv\n",
      "https://datosabiertos.impi.gob.mx/IMPICifras/Marcas02.csv\n",
      "https://datosabiertos.impi.gob.mx/IMPICifras/Marcas01.csv\n",
      "https://datosabiertos.impi.gob.mx/IMPICifras/Invenciones15.csv\n",
      "https://datosabiertos.impi.gob.mx/IMPICifras/Invenciones14.csv\n",
      "https://datosabiertos.impi.gob.mx/IMPICifras/Invenciones13.csv\n",
      "https://datosabiertos.impi.gob.mx/IMPICifras/Invenciones12.csv\n",
      "https://datosabiertos.impi.gob.mx/IMPICifras/Invenciones11.csv\n",
      "https://datosabiertos.impi.gob.mx/IMPICifras/Invenciones10.csv\n",
      "https://datosabiertos.impi.gob.mx/IMPICifras/Invenciones09.csv\n",
      "https://datosabiertos.impi.gob.mx/IMPICifras/Invenciones08.csv\n",
      "https://datosabiertos.impi.gob.mx/IMPICifras/Invenciones07.csv\n",
      "https://datosabiertos.impi.gob.mx/IMPICifras/Invenciones06.csv\n",
      "https://datosabiertos.impi.gob.mx/IMPICifras/Invenciones05.csv\n",
      "https://datosabiertos.impi.gob.mx/IMPICifras/Invenciones04.csv\n",
      "https://datosabiertos.impi.gob.mx/IMPICifras/Invenciones03.csv\n",
      "https://datosabiertos.impi.gob.mx/IMPICifras/Invenciones02.csv\n",
      "https://datosabiertos.impi.gob.mx/IMPICifras/Invenciones01.csv\n"
     ]
    }
   ],
   "source": [
    "links = []\n",
    "for link in htmlDataSelected:\n",
    "    if('https' in link['href']):\n",
    "        links.append(link['href'])\n",
    "for link in links:\n",
    "    print(link)"
   ]
  },
  {
   "cell_type": "code",
   "execution_count": 5,
   "id": "9eff78e5",
   "metadata": {},
   "outputs": [
    {
     "name": "stdout",
     "output_type": "stream",
     "text": [
      "https://datosabiertos.impi.gob.mx/IMPICifras/Invenciones16.csv\n",
      "['Invenciones16.csv']\n",
      "==========\n"
     ]
    }
   ],
   "source": [
    "expresionRegular = f\"\\w+\\.{formatoArchivo}\"\n",
    "link_prueba = links[0]\n",
    "DistinciónArchivo = re.findall(expresionRegular, link_prueba)\n",
    "print(link_prueba)\n",
    "print(DistinciónArchivo)\n",
    "print(\"==========\")\n",
    "palabraFiltrada = re.findall(\"[a-zA-Z]+\", DistinciónArchivo[0])\n",
    "palabrachida = palabraFiltrada[0]"
   ]
  },
  {
   "cell_type": "code",
   "execution_count": 7,
   "id": "aadeaee6",
   "metadata": {},
   "outputs": [
    {
     "name": "stdout",
     "output_type": "stream",
     "text": [
      "https://datosabiertos.impi.gob.mx/IMPICifras/Invenciones16.csv\n",
      "Invenciones\n"
     ]
    }
   ],
   "source": [
    "print(link_prueba)\n",
    "print(palabrachida)"
   ]
  },
  {
   "cell_type": "code",
   "execution_count": null,
   "id": "8f613a64",
   "metadata": {},
   "outputs": [],
   "source": []
  }
 ],
 "metadata": {
  "kernelspec": {
   "display_name": "Python 3 (ipykernel)",
   "language": "python",
   "name": "python3"
  },
  "language_info": {
   "codemirror_mode": {
    "name": "ipython",
    "version": 3
   },
   "file_extension": ".py",
   "mimetype": "text/x-python",
   "name": "python",
   "nbconvert_exporter": "python",
   "pygments_lexer": "ipython3",
   "version": "3.10.6"
  }
 },
 "nbformat": 4,
 "nbformat_minor": 5
}
