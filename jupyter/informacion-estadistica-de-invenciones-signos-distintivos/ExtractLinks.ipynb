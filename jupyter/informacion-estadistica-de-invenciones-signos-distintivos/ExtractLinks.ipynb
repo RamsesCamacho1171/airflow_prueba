{
 "cells": [
  {
   "cell_type": "code",
   "execution_count": 1,
   "id": "b6132476",
   "metadata": {},
   "outputs": [],
   "source": [
    "import requests\n",
    "from bs4 import BeautifulSoup\n",
    "\n",
    "class ExtractDataWebLinks():\n",
    "\n",
    "    __headers = {'User-Agent': 'Mozilla/5.0 (X11; Linux x86_64) AppleWebKit/537.36 (KHTML, like Gecko) Chrome/47.0.2526.106 Safari/537.36'}\n",
    "    def __init__(self, link):\n",
    "        self.__link = link\n",
    "\n",
    "    def iniciarExtracciónLinks(self):\n",
    "        html = self.__createHTMLdata()\n",
    "        selectedData = self.__selectHTMLdata(html)\n",
    "        extractLinkHtml = self.__extractLinks(selectedData)\n",
    "        return extractLinkHtml\n",
    "\n",
    "    def __createHTMLdata(self):\n",
    "        html = requests.get(self.__link, headers=self.__headers)\n",
    "        return BeautifulSoup(html.content, 'html.parser')\n",
    "    \n",
    "    def __selectHTMLdata(self, html):\n",
    "        htmlDataSelected = html.find_all(\"a\", {\"class\": \"btn btn-primary\"})\n",
    "        return htmlDataSelected\n",
    "    \n",
    "    def __extractLinks(self, html):\n",
    "        links = []\n",
    "        for link in html:\n",
    "            if('https' in link['href']):\n",
    "                links.append(link['href'])\n",
    "        return links\n",
    "    \n",
    "    def __extractTitle(self):\n",
    "        \n",
    "    \n"
   ]
  },
  {
   "cell_type": "code",
   "execution_count": 2,
   "id": "c7952272",
   "metadata": {},
   "outputs": [
    {
     "name": "stdout",
     "output_type": "stream",
     "text": [
      "Los links extraidos son:\n",
      "https://datosabiertos.impi.gob.mx/IMPICifras/Invenciones16.csv\n",
      "https://datosabiertos.impi.gob.mx/IMPICifras/Proteccion04.csv\n",
      "https://datosabiertos.impi.gob.mx/IMPICifras/Proteccion03.csv\n",
      "https://datosabiertos.impi.gob.mx/IMPICifras/Proteccion02.csv\n",
      "https://datosabiertos.impi.gob.mx/IMPICifras/Proteccion01.csv\n",
      "https://datosabiertos.impi.gob.mx/IMPICifras/Promocion06.csv\n",
      "https://datosabiertos.impi.gob.mx/IMPICifras/Promocion05.csv\n",
      "https://datosabiertos.impi.gob.mx/IMPICifras/Promocion04.csv\n",
      "https://datosabiertos.impi.gob.mx/IMPICifras/Promocion03.csv\n",
      "https://datosabiertos.impi.gob.mx/IMPICifras/Promocion02.csv\n",
      "https://datosabiertos.impi.gob.mx/IMPICifras/Promocion01.csv\n",
      "https://datosabiertos.impi.gob.mx/IMPICifras/Regionales01.csv\n",
      "https://datosabiertos.impi.gob.mx/IMPICifras/PIB01.CSV\n",
      "https://datosabiertos.impi.gob.mx/IMPICifras/Marcas12.csv\n",
      "https://datosabiertos.impi.gob.mx/IMPICifras/Marcas11.csv\n",
      "https://datosabiertos.impi.gob.mx/IMPICifras/Marcas10.csv\n",
      "https://datosabiertos.impi.gob.mx/IMPICifras/Marcas09.csv\n",
      "https://datosabiertos.impi.gob.mx/IMPICifras/Marcas08.csv\n",
      "https://datosabiertos.impi.gob.mx/IMPICifras/Marcas07.csv\n",
      "https://datosabiertos.impi.gob.mx/IMPICifras/Marcas06.csv\n",
      "https://datosabiertos.impi.gob.mx/IMPICifras/Marcas05.csv\n",
      "https://datosabiertos.impi.gob.mx/IMPICifras/Marcas04.csv\n",
      "https://datosabiertos.impi.gob.mx/IMPICifras/Marcas03.csv\n",
      "https://datosabiertos.impi.gob.mx/IMPICifras/Marcas02.csv\n",
      "https://datosabiertos.impi.gob.mx/IMPICifras/Marcas01.csv\n",
      "https://datosabiertos.impi.gob.mx/IMPICifras/Invenciones15.csv\n",
      "https://datosabiertos.impi.gob.mx/IMPICifras/Invenciones14.csv\n",
      "https://datosabiertos.impi.gob.mx/IMPICifras/Invenciones13.csv\n",
      "https://datosabiertos.impi.gob.mx/IMPICifras/Invenciones12.csv\n",
      "https://datosabiertos.impi.gob.mx/IMPICifras/Invenciones11.csv\n",
      "https://datosabiertos.impi.gob.mx/IMPICifras/Invenciones10.csv\n",
      "https://datosabiertos.impi.gob.mx/IMPICifras/Invenciones09.csv\n",
      "https://datosabiertos.impi.gob.mx/IMPICifras/Invenciones08.csv\n",
      "https://datosabiertos.impi.gob.mx/IMPICifras/Invenciones07.csv\n",
      "https://datosabiertos.impi.gob.mx/IMPICifras/Invenciones06.csv\n",
      "https://datosabiertos.impi.gob.mx/IMPICifras/Invenciones05.csv\n",
      "https://datosabiertos.impi.gob.mx/IMPICifras/Invenciones04.csv\n",
      "https://datosabiertos.impi.gob.mx/IMPICifras/Invenciones03.csv\n",
      "https://datosabiertos.impi.gob.mx/IMPICifras/Invenciones02.csv\n",
      "https://datosabiertos.impi.gob.mx/IMPICifras/Invenciones01.csv\n"
     ]
    }
   ],
   "source": [
    "pagina = ExtractDataWebLinks(\"https://datos.gob.mx/busca/dataset/informacion-estadistica-de-invenciones-signos-distintivos-y-proteccion-a-la-propiedad-intelectu\")\n",
    "print(\"Los links extraidos son:\")\n",
    "links = pagina.iniciarExtracciónLinks()\n",
    "for link in links:\n",
    "    print(link)"
   ]
  },
  {
   "cell_type": "code",
   "execution_count": null,
   "id": "e17556cc",
   "metadata": {},
   "outputs": [],
   "source": []
  }
 ],
 "metadata": {
  "kernelspec": {
   "display_name": "Python 3 (ipykernel)",
   "language": "python",
   "name": "python3"
  },
  "language_info": {
   "codemirror_mode": {
    "name": "ipython",
    "version": 3
   },
   "file_extension": ".py",
   "mimetype": "text/x-python",
   "name": "python",
   "nbconvert_exporter": "python",
   "pygments_lexer": "ipython3",
   "version": "3.10.6"
  }
 },
 "nbformat": 4,
 "nbformat_minor": 5
}
