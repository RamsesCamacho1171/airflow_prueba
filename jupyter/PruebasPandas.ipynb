{
 "cells": [
  {
   "cell_type": "code",
   "execution_count": 2,
   "id": "6ce9cf77",
   "metadata": {},
   "outputs": [],
   "source": [
    "import pandas as pd"
   ]
  },
  {
   "cell_type": "code",
   "execution_count": 7,
   "id": "fcf3dd73",
   "metadata": {},
   "outputs": [],
   "source": [
    "data = pd.DataFrame({\n",
    "    '2021': {\n",
    "        'Dic': [28411, 29000, 27280]\n",
    "    },\n",
    "    '2022': {\n",
    "        'Enero': [555,555],\n",
    "        'Febrero': [222, 333],\n",
    "        'Dic': [111, 11]\n",
    "    }\n",
    "})"
   ]
  },
  {
   "cell_type": "code",
   "execution_count": 8,
   "id": "497fa013",
   "metadata": {},
   "outputs": [
    {
     "name": "stdout",
     "output_type": "stream",
     "text": [
      "                          2021        2022\n",
      "Dic      [28411, 29000, 27280]   [111, 11]\n",
      "Enero                      NaN  [555, 555]\n",
      "Febrero                    NaN  [222, 333]\n"
     ]
    }
   ],
   "source": [
    "print(data)"
   ]
  },
  {
   "cell_type": "code",
   "execution_count": null,
   "id": "4fb80c71",
   "metadata": {},
   "outputs": [],
   "source": []
  }
 ],
 "metadata": {
  "kernelspec": {
   "display_name": "Python 3 (ipykernel)",
   "language": "python",
   "name": "python3"
  },
  "language_info": {
   "codemirror_mode": {
    "name": "ipython",
    "version": 3
   },
   "file_extension": ".py",
   "mimetype": "text/x-python",
   "name": "python",
   "nbconvert_exporter": "python",
   "pygments_lexer": "ipython3",
   "version": "3.10.6"
  }
 },
 "nbformat": 4,
 "nbformat_minor": 5
}
