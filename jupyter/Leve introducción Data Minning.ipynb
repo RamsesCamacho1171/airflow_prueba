{
 "cells": [
  {
   "cell_type": "markdown",
   "id": "19c8cb70",
   "metadata": {},
   "source": [
    "Metodologías para la minería de datos\n",
    "\n",
    "    - Ciencias de la computación (Fayyed, et al).\n",
    "    - Estadística SEMMA\n",
    "    - Negocios CRISP-DM.\n",
    "\n",
    "Fayyed\n",
    "    Tiene un total de 6 fases la cuales son:\n",
    "    \n",
    "    Datos ---> Datos Objetivo ---> Datos Procesados ---> Datos Transformados ---> Patrones --> Conocimiento\n",
    "           ⚺                   ⚺                     ⚺                        ⚺        \n",
    "         Selección       PreProcesamiento     Transformación           Mineria de datos            \n",
    "                             Limpieza\n",
    "SEMMA\n",
    "    Tiene un total de 5 fases las cuales son:\n",
    "    \n",
    "     Sample       ------>     Explore       ------>     Modify       ------>      Model       ------>     ASSESS\n",
    "Datos de entrada             Visualizar          Transformación de variables   Regresiones              Evaluación\n",
    "    Muestreo                  Entender            Filtrar valores anómalos   Arboles de decisión        Puntuación\n",
    "Partición de datos            Asociar                    Agrupación          Redes Neuronales            Reporte\n",
    "                        Selección de variables          SOM / Kohonen        Inducción de reglas\n",
    "\n",
    "NOTAS: \n",
    "    SOM: Un mapa autoorganizado (en inglés, self-organizing map, SOM) o un mapa autoorganizado de características (self-organizing feature map, SOFM) es un tipo de red neuronal artificial (ANN por sus siglas en inglés), que es entrenada usando aprendizaje no supervisado para producir una representación discreta del espacio de las muestras de entrada, llamado mapa. \n",
    "\n"
   ]
  },
  {
   "cell_type": "markdown",
   "id": "f88e7036",
   "metadata": {},
   "source": [
    "Topolgías de la mineria de datos\n",
    "\n",
    "Técnicas de minería de datos\n",
    "\n",
    "    - Descriptivas (Aprendizaje No supervisado)\n",
    "    - Predictivas (Aprendizaje supervisado)\n",
    "    - Regresión (Aprendizaje supervisado)\n",
    "    \n",
    "Conjunto de datos\n",
    "\n",
    "    - Clasificación Categórica: Cuando tenemos un identificador que puede clasificar los datos conocido como clase\n",
    "    - Agrupamiento o segmentación: Cuando no hay clase\n",
    "    - Asociación: Si el conjunto de datos viene en conjunto de transacción y cada conjunto de esta tiene un conjunto       de items \n",
    "    - Regresión: Clasificación de una clase numérica o continua\n",
    "    \n",
    "Ejemplos\n",
    "\n",
    "    Modelo Predectivo:\n",
    "        ¿Juan necesita una operación ocular? Modelo predictivo - Clasificación\n",
    "    Modelo Descriptivo:\n",
    "        ¿Qué tipo de clientes compran cierto tipo de productos en un supermercado? Modelo descriptivo - Agrupamiento\n",
    "        ¿Qué temas esta tratando esta cuenta de twitter? Modelo descriptivo - segmentación\n",
    "        ¿Los compradores de pañales suelen comprar cerveza? Modelo descriptivo - Asociación\n",
    "    Modelo de Regresión:\n",
    "            ¿Cuál será el precio de un apartamento de x lugar?\n",
    "            ¿Qué número de clientes tendré el mes q viene?\n",
    "            ¿Cuánto sería el costo de un producto en diciembre?"
   ]
  },
  {
   "cell_type": "markdown",
   "id": "6130b800",
   "metadata": {},
   "source": [
    "Discretización - Binning\n",
    "Es el proceso de convertir datos cuantitativos a datos cualitativos, por ejemplo:\n",
    "    De 0 - 100 puede ser la calificación de un alumno, si le hacemos discretización quedaria algo asi\n",
    "         0 - 19: nivel muy bajo\n",
    "        20 - 39: nivel bajo\n",
    "        40 - 59: nivel intermedio\n",
    "        60 - 79: nivel bueno\n",
    "        80 - 99: nivel muy bueno\n",
    "            100: nivel sobresaliente\n",
    "\n",
    "Discretización supervisada\n",
    "    \n",
    "\n",
    "Discretización no supervisada"
   ]
  }
 ],
 "metadata": {
  "kernelspec": {
   "display_name": "Python 3 (ipykernel)",
   "language": "python",
   "name": "python3"
  },
  "language_info": {
   "codemirror_mode": {
    "name": "ipython",
    "version": 3
   },
   "file_extension": ".py",
   "mimetype": "text/x-python",
   "name": "python",
   "nbconvert_exporter": "python",
   "pygments_lexer": "ipython3",
   "version": "3.10.6"
  }
 },
 "nbformat": 4,
 "nbformat_minor": 5
}
